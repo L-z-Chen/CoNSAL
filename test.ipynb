{
 "cells": [
  {
   "cell_type": "code",
   "execution_count": 1,
   "metadata": {},
   "outputs": [
    {
     "name": "stdout",
     "output_type": "stream",
     "text": [
      "(100, 2)\n"
     ]
    }
   ],
   "source": [
    "import numpy as np\n",
    "from numpy import random\n",
    "\n",
    "num = 100\n",
    "    # random distance generation\n",
    "distance = np.linspace(np.array([-1,-1]),np.array([1,1]),num)\n",
    "print(distance.shape)\n",
    "for i in distance:\n",
    "    i[0] += np.random.randn() / 3\n",
    "    i[1] += np.random.randn() / 3\n",
    "distance = np.concatenate((distance,random.randn(distance.shape[0],distance.shape[1])*0.1),axis=0)\n"
   ]
  },
  {
   "cell_type": "code",
   "execution_count": 6,
   "metadata": {},
   "outputs": [
    {
     "data": {
      "text/plain": [
       "array([ 0.87619917,  0.44642937, -0.26425951, -1.58667397,  0.63953322,\n",
       "       -0.94827517,  0.36970486,  0.45274154,  0.68621882,  0.71544785])"
      ]
     },
     "execution_count": 6,
     "metadata": {},
     "output_type": "execute_result"
    }
   ],
   "source": [
    "np.random.randn(10)"
   ]
  }
 ],
 "metadata": {
  "kernelspec": {
   "display_name": "pytorch",
   "language": "python",
   "name": "python3"
  },
  "language_info": {
   "codemirror_mode": {
    "name": "ipython",
    "version": 3
   },
   "file_extension": ".py",
   "mimetype": "text/x-python",
   "name": "python",
   "nbconvert_exporter": "python",
   "pygments_lexer": "ipython3",
   "version": "3.11.9"
  }
 },
 "nbformat": 4,
 "nbformat_minor": 2
}
